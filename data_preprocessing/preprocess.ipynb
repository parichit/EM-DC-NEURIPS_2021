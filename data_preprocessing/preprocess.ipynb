{
 "cells": [
  {
   "cell_type": "code",
   "execution_count": 3,
   "id": "1c202c1b",
   "metadata": {},
   "outputs": [],
   "source": [
    "from ucimlrepo import fetch_ucirepo\n",
    "import pandas as pd\n",
    "import numpy as np\n",
    "from sklearn.preprocessing import StandardScaler\n",
    "from sklearn.decomposition import PCA"
   ]
  },
  {
   "cell_type": "markdown",
   "id": "c6697ca4",
   "metadata": {},
   "source": [
    "#### Fetch Spambase data"
   ]
  },
  {
   "cell_type": "code",
   "execution_count": null,
   "id": "3775c271",
   "metadata": {},
   "outputs": [],
   "source": [
    "spambase_data = fetch_ucirepo(id=94)\n",
    "data = spambase_data.data.features\n",
    "labels = spambase_data.data.targets"
   ]
  },
  {
   "cell_type": "markdown",
   "id": "a63df99d",
   "metadata": {},
   "source": [
    "#### Fetch Magic Gamma Data"
   ]
  },
  {
   "cell_type": "code",
   "execution_count": 69,
   "id": "ec303a6a",
   "metadata": {},
   "outputs": [
    {
     "name": "stderr",
     "output_type": "stream",
     "text": [
      "/tmp/ipykernel_207949/2912721686.py:5: SettingWithCopyWarning: \n",
      "A value is trying to be set on a copy of a slice from a DataFrame\n",
      "\n",
      "See the caveats in the documentation: https://pandas.pydata.org/pandas-docs/stable/user_guide/indexing.html#returning-a-view-versus-a-copy\n",
      "  labels.loc[labels['class'] == 'g', 'class'] = 0\n",
      "/tmp/ipykernel_207949/2912721686.py:6: SettingWithCopyWarning: \n",
      "A value is trying to be set on a copy of a slice from a DataFrame\n",
      "\n",
      "See the caveats in the documentation: https://pandas.pydata.org/pandas-docs/stable/user_guide/indexing.html#returning-a-view-versus-a-copy\n",
      "  labels.loc[labels['class'] == 'h', 'class'] = 1\n"
     ]
    }
   ],
   "source": [
    "magic_gamma_data = fetch_ucirepo(id=159)\n",
    "data = magic_gamma_data.data.features\n",
    "labels = magic_gamma_data.data.targets\n",
    "\n",
    "labels.loc[labels['class'] == 'g', 'class'] = 0\n",
    "labels.loc[labels['class'] == 'h', 'class'] = 1"
   ]
  },
  {
   "cell_type": "markdown",
   "id": "b66b9de8",
   "metadata": {},
   "source": [
    "#### US Census Income Dataset"
   ]
  },
  {
   "cell_type": "code",
   "execution_count": 66,
   "id": "704bce56",
   "metadata": {},
   "outputs": [
    {
     "name": "stderr",
     "output_type": "stream",
     "text": [
      "/tmp/ipykernel_207949/3176595336.py:6: SettingWithCopyWarning: \n",
      "A value is trying to be set on a copy of a slice from a DataFrame\n",
      "\n",
      "See the caveats in the documentation: https://pandas.pydata.org/pandas-docs/stable/user_guide/indexing.html#returning-a-view-versus-a-copy\n",
      "  labels.loc[labels['income'] == '<=50K', 'income'] = 0\n",
      "/tmp/ipykernel_207949/3176595336.py:7: SettingWithCopyWarning: \n",
      "A value is trying to be set on a copy of a slice from a DataFrame\n",
      "\n",
      "See the caveats in the documentation: https://pandas.pydata.org/pandas-docs/stable/user_guide/indexing.html#returning-a-view-versus-a-copy\n",
      "  labels.loc[labels['income'] == '<=50K.', 'income'] = 0\n",
      "/tmp/ipykernel_207949/3176595336.py:8: SettingWithCopyWarning: \n",
      "A value is trying to be set on a copy of a slice from a DataFrame\n",
      "\n",
      "See the caveats in the documentation: https://pandas.pydata.org/pandas-docs/stable/user_guide/indexing.html#returning-a-view-versus-a-copy\n",
      "  labels.loc[labels['income'] == '>50K', 'income'] = 1\n",
      "/tmp/ipykernel_207949/3176595336.py:9: SettingWithCopyWarning: \n",
      "A value is trying to be set on a copy of a slice from a DataFrame\n",
      "\n",
      "See the caveats in the documentation: https://pandas.pydata.org/pandas-docs/stable/user_guide/indexing.html#returning-a-view-versus-a-copy\n",
      "  labels.loc[labels['income'] == '>50K.', 'income'] = 1\n"
     ]
    },
    {
     "data": {
      "text/plain": [
       "income\n",
       "0         37155\n",
       "1         11687\n",
       "Name: count, dtype: int64"
      ]
     },
     "execution_count": 66,
     "metadata": {},
     "output_type": "execute_result"
    }
   ],
   "source": [
    "census_income_data = fetch_ucirepo(id=20)\n",
    "data = census_income_data.data.features\n",
    "labels = census_income_data.data.targets\n",
    "\n",
    "# Encode the target variable\n",
    "labels.loc[labels['income'] == '<=50K', 'income'] = 0\n",
    "labels.loc[labels['income'] == '<=50K.', 'income'] = 0\n",
    "labels.loc[labels['income'] == '>50K', 'income'] = 1\n",
    "labels.loc[labels['income'] == '>50K.', 'income'] = 1\n",
    "labels.value_counts()"
   ]
  },
  {
   "cell_type": "markdown",
   "id": "45da483d",
   "metadata": {},
   "source": [
    "#### Wisconsin Data"
   ]
  },
  {
   "cell_type": "code",
   "execution_count": null,
   "id": "7aca4386",
   "metadata": {},
   "outputs": [
    {
     "name": "stderr",
     "output_type": "stream",
     "text": [
      "/tmp/ipykernel_207949/3242625470.py:6: SettingWithCopyWarning: \n",
      "A value is trying to be set on a copy of a slice from a DataFrame\n",
      "\n",
      "See the caveats in the documentation: https://pandas.pydata.org/pandas-docs/stable/user_guide/indexing.html#returning-a-view-versus-a-copy\n",
      "  labels.loc[labels['Diagnosis'] == 'M', 'Diagnosis'] = 0\n",
      "/tmp/ipykernel_207949/3242625470.py:7: SettingWithCopyWarning: \n",
      "A value is trying to be set on a copy of a slice from a DataFrame\n",
      "\n",
      "See the caveats in the documentation: https://pandas.pydata.org/pandas-docs/stable/user_guide/indexing.html#returning-a-view-versus-a-copy\n",
      "  labels.loc[labels['Diagnosis'] == 'B', 'Diagnosis'] = 1\n"
     ]
    }
   ],
   "source": [
    "wisconsin_data = fetch_ucirepo(id=17)\n",
    "data = wisconsin_data.data.features\n",
    "labels = wisconsin_data.data.targets\n",
    "\n",
    "labels.loc[labels['Diagnosis'] == 'M', 'Diagnosis'] = 0\n",
    "labels.loc[labels['Diagnosis'] == 'B', 'Diagnosis'] = 1"
   ]
  },
  {
   "cell_type": "markdown",
   "id": "13c0ea16",
   "metadata": {},
   "source": [
    "#### Crop Data"
   ]
  },
  {
   "cell_type": "code",
   "execution_count": null,
   "id": "807f70ea",
   "metadata": {},
   "outputs": [],
   "source": [
    "dataset = pd.read_csv('/u/parishar/nobackup/DATASETS/geokmeans_data/real_data/Crop_after_pca.csv', header=None)\n",
    "labels = pd.read_csv('/u/parishar/nobackup/DATASETS/geokmeans_data/real_data/labels_Crop.csv', header=None)"
   ]
  },
  {
   "cell_type": "code",
   "execution_count": null,
   "id": "500effed",
   "metadata": {},
   "outputs": [],
   "source": [
    "# def do_pca(dataset, n_comp):\n",
    "#     pca = PCA(n_components=n_comp)\n",
    "#     ss = StandardScaler()\n",
    "#     dataset = ss.fit_transform(dataset)\n",
    "#     principalComponents = pca.fit_transform(dataset)\n",
    "#     # print(\"Variance: \", pca.explained_variance_)\n",
    "#     pc_esc = pd.DataFrame(data=principalComponents)\n",
    "#     return pc_esc\n",
    "\n",
    "# crop_after_pca = do_pca(dataset, 10)\n",
    "# crop_after_pca.to_csv('/u/parishar/nobackup/DATASETS/geokmeans_data/real_data/Crop_after_pca.csv', index=False, header=False)\n",
    "# labels_crop = pd.read_csv('/u/parishar/nobackup/DATASETS/geokmeans_data/real_data/labels_Crop.csv', header=None)"
   ]
  },
  {
   "cell_type": "markdown",
   "id": "c816b58a",
   "metadata": {},
   "source": [
    "#### RingNorm Data"
   ]
  },
  {
   "cell_type": "code",
   "execution_count": 31,
   "id": "2323a3c0",
   "metadata": {},
   "outputs": [],
   "source": [
    "data = pd.read_csv('/u/parishar/nobackup/DATASETS/geokmeans_data/real_data/Dataset.data', header=None, sep='\\s+')\n",
    "labels = data.iloc[:, 20]\n",
    "data.drop(columns=[20], inplace=True) \n",
    "\n",
    "data.to_csv('/u/parishar/nobackup/DATASETS/geokmeans_data/real_data/ringnorm.csv', index=False, header=False)\n",
    "labels.to_csv('/u/parishar/nobackup/DATASETS/geokmeans_data/real_data/labels_ringnorm.csv', index=False, header=False)\n"
   ]
  },
  {
   "cell_type": "code",
   "execution_count": 5,
   "id": "d2ada30f",
   "metadata": {},
   "outputs": [
    {
     "data": {
      "text/html": [
       "<div>\n",
       "<style scoped>\n",
       "    .dataframe tbody tr th:only-of-type {\n",
       "        vertical-align: middle;\n",
       "    }\n",
       "\n",
       "    .dataframe tbody tr th {\n",
       "        vertical-align: top;\n",
       "    }\n",
       "\n",
       "    .dataframe thead th {\n",
       "        text-align: right;\n",
       "    }\n",
       "</style>\n",
       "<table border=\"1\" class=\"dataframe\">\n",
       "  <thead>\n",
       "    <tr style=\"text-align: right;\">\n",
       "      <th></th>\n",
       "      <th>0</th>\n",
       "      <th>1</th>\n",
       "      <th>2</th>\n",
       "      <th>3</th>\n",
       "      <th>4</th>\n",
       "      <th>5</th>\n",
       "    </tr>\n",
       "  </thead>\n",
       "  <tbody>\n",
       "    <tr>\n",
       "      <th>0</th>\n",
       "      <td>a</td>\n",
       "      <td>1</td>\n",
       "      <td>2</td>\n",
       "      <td>3</td>\n",
       "      <td>4</td>\n",
       "      <td>5</td>\n",
       "    </tr>\n",
       "    <tr>\n",
       "      <th>1</th>\n",
       "      <td>b</td>\n",
       "      <td>3</td>\n",
       "      <td>3</td>\n",
       "      <td>3</td>\n",
       "      <td>3</td>\n",
       "      <td>3</td>\n",
       "    </tr>\n",
       "    <tr>\n",
       "      <th>2</th>\n",
       "      <td>c</td>\n",
       "      <td>2</td>\n",
       "      <td>2</td>\n",
       "      <td>2</td>\n",
       "      <td>2</td>\n",
       "      <td>2</td>\n",
       "    </tr>\n",
       "    <tr>\n",
       "      <th>3</th>\n",
       "      <td>c</td>\n",
       "      <td>1</td>\n",
       "      <td>2</td>\n",
       "      <td>3</td>\n",
       "      <td>4</td>\n",
       "      <td>5</td>\n",
       "    </tr>\n",
       "    <tr>\n",
       "      <th>4</th>\n",
       "      <td>d</td>\n",
       "      <td>3</td>\n",
       "      <td>2</td>\n",
       "      <td>3</td>\n",
       "      <td>2</td>\n",
       "      <td>3</td>\n",
       "    </tr>\n",
       "  </tbody>\n",
       "</table>\n",
       "</div>"
      ],
      "text/plain": [
       "   0  1  2  3  4  5\n",
       "0  a  1  2  3  4  5\n",
       "1  b  3  3  3  3  3\n",
       "2  c  2  2  2  2  2\n",
       "3  c  1  2  3  4  5\n",
       "4  d  3  2  3  2  3"
      ]
     },
     "execution_count": 5,
     "metadata": {},
     "output_type": "execute_result"
    }
   ],
   "source": [
    "test = pd.DataFrame([[\"a\", 1,2,3,4,5], [\"b\", 3, 3, 3, 3, 3], [\"c\", 2, 2, 2, 2 ,2], \n",
    "                     [\"c\", 1, 2, 3, 4, 5], [\"d\", 3, 2, 3, 2, 3]])\n",
    "\n",
    "test"
   ]
  },
  {
   "cell_type": "code",
   "execution_count": null,
   "id": "2ba3d3cd",
   "metadata": {},
   "outputs": [
    {
     "ename": "SyntaxError",
     "evalue": "closing parenthesis ']' does not match opening parenthesis '(' (3032485538.py, line 4)",
     "output_type": "error",
     "traceback": [
      "  \u001b[36mCell\u001b[39m\u001b[36m \u001b[39m\u001b[32mIn[9]\u001b[39m\u001b[32m, line 4\u001b[39m\n\u001b[31m    \u001b[39m\u001b[31mtemp = pd.concat([temp, pd.Series([\"EMDC\", \"spambase\", 2, 0.85, 0.9, 12.5, 10]], index=temp.columns), ignore_index=True)\u001b[39m\n                                                                                  ^\n\u001b[31mSyntaxError\u001b[39m\u001b[31m:\u001b[39m closing parenthesis ']' does not match opening parenthesis '('\n"
     ]
    }
   ],
   "source": [
    "# test.iloc[:, 1:5].mean()\n",
    "\n",
    "temp = pd.DataFrame(columns=[\"Model\", \"Dataset\", \"Clusters\", \"ARI\", \"ACC\", \"Time\", \"Iters\"])\n",
    "temp = pd.concat([temp, pd.Series([\"EMDC\", \"spambase\", 2, 0.85, 0.9, 12.5, 10], index=temp.columns)], ignore_index=True)\n",
    "# temp.append(pd.Series([\"EMDC\", \"spambase\", 3, 0.75, 0.8, 15.5, 12], index=temp.columns), ignore_index=True)\n",
    "temp"
   ]
  }
 ],
 "metadata": {
  "kernelspec": {
   "display_name": "deep_learning_env",
   "language": "python",
   "name": "deep_learning_env"
  },
  "language_info": {
   "codemirror_mode": {
    "name": "ipython",
    "version": 3
   },
   "file_extension": ".py",
   "mimetype": "text/x-python",
   "name": "python",
   "nbconvert_exporter": "python",
   "pygments_lexer": "ipython3",
   "version": "3.11.7"
  }
 },
 "nbformat": 4,
 "nbformat_minor": 5
}
